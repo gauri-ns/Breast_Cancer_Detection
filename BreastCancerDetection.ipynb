{
 "cells": [
  {
   "cell_type": "code",
   "execution_count": 29,
   "id": "8c4ad583-4f59-447a-807e-213cf47cdb94",
   "metadata": {},
   "outputs": [],
   "source": [
    "import torch\n",
    "import torch.nn as nn\n",
    "import torch.optim as optim\n",
    "from sklearn.datasets import load_breast_cancer\n",
    "from sklearn.model_selection import train_test_split\n",
    "from sklearn.preprocessing import StandardScaler"
   ]
  },
  {
   "cell_type": "code",
   "execution_count": 30,
   "id": "ffdcb687-405b-416b-8788-865c5fa99621",
   "metadata": {},
   "outputs": [
    {
     "name": "stdout",
     "output_type": "stream",
     "text": [
      "Using device: cpu\n"
     ]
    }
   ],
   "source": [
    "# device configuration\n",
    "# check for CUDA availability\n",
    "device = torch.device(\"cuda\" if torch.cuda.is_available() else \"cpu\")\n",
    "print(f\"Using device: {device}\")"
   ]
  },
  {
   "cell_type": "code",
   "execution_count": 31,
   "id": "2b1e5cb0-8c84-458c-b319-0d09afb63857",
   "metadata": {},
   "outputs": [],
   "source": [
    "# data collection and pre processing\n",
    "# load the breast cancer dataset\n",
    "data = load_breast_cancer()\n",
    "X = data.data\n",
    "y = data.target"
   ]
  },
  {
   "cell_type": "code",
   "execution_count": 32,
   "id": "9144ceda-26db-4b04-bf3a-f77690f14da2",
   "metadata": {},
   "outputs": [],
   "source": [
    "# split the dataset into training and test set\n",
    "X_train, X_test, y_train, y_test = train_test_split(X, y, test_size=0.2, random_state=42)"
   ]
  },
  {
   "cell_type": "code",
   "execution_count": 33,
   "id": "02193ce9-33d9-481f-9176-6ec5eb09b49f",
   "metadata": {},
   "outputs": [
    {
     "name": "stdout",
     "output_type": "stream",
     "text": [
      "(569, 30)\n",
      "(455, 30)\n",
      "(114, 30)\n"
     ]
    }
   ],
   "source": [
    "print(X.shape)\n",
    "print(X_train.shape)\n",
    "print(X_test.shape)"
   ]
  },
  {
   "cell_type": "code",
   "execution_count": 34,
   "id": "87cc740c-7ad9-4c9f-a3a0-bef76d6163b7",
   "metadata": {},
   "outputs": [],
   "source": [
    "# standardize the data using Standard sclaer\n",
    "scaler = StandardScaler()\n",
    "\n",
    "X_train = scaler.fit_transform(X_train)\n",
    "X_test = scaler.transform(X_test)"
   ]
  },
  {
   "cell_type": "code",
   "execution_count": 35,
   "id": "99317f36-1399-4ec4-b96f-22dfc4b6424f",
   "metadata": {},
   "outputs": [],
   "source": [
    "# convert data to PyTorch tensors and move it to GPU\n",
    "X_train = torch.tensor(X_train, dtype=torch.float32).to(device)\n",
    "y_train = torch.tensor(y_train, dtype=torch.float32).to(device)\n",
    "X_test = torch.tensor(X_test, dtype=torch.float32).to(device)\n",
    "y_test = torch.tensor(y_test, dtype=torch.float32).to(device)"
   ]
  },
  {
   "cell_type": "code",
   "execution_count": 36,
   "id": "f4ba7c26-8356-4c0a-b4bc-c5d2a24d03ef",
   "metadata": {},
   "outputs": [],
   "source": [
    "# network architecture\n",
    "# define the neural network architecture\n",
    "\n",
    "class NeuralNet(nn.Module):\n",
    "\n",
    "  def __init__(self, input_size, hidden_size, output_size):\n",
    "    super(NeuralNet, self).__init__()\n",
    "    self.fc1 = nn.Linear(input_size, hidden_size)\n",
    "    self.relu = nn.ReLU()\n",
    "    self.fc2 = nn.Linear(hidden_size, output_size)\n",
    "    self.sigmoid = nn.Sigmoid()\n",
    "\n",
    "  def forward(self, x):\n",
    "    out = self.fc1(x)\n",
    "    out = self.relu(out)\n",
    "    out = self.fc2(out)\n",
    "    out = self.sigmoid(out)\n",
    "    return out"
   ]
  },
  {
   "cell_type": "code",
   "execution_count": 37,
   "id": "dee7eac2-2b68-439c-b88d-604eb47e78b0",
   "metadata": {},
   "outputs": [],
   "source": [
    "# define hyperparameters\n",
    "input_size = X_train.shape[1]\n",
    "hidden_size = 64\n",
    "output_size = 1\n",
    "learning_rate = 0.001\n",
    "num_epochs = 50"
   ]
  },
  {
   "cell_type": "code",
   "execution_count": 38,
   "id": "007ea93a-9753-4a87-b8f7-0f5a3155f877",
   "metadata": {},
   "outputs": [],
   "source": [
    "# initialize the neural network and move it the GPU\n",
    "model = NeuralNet(input_size, hidden_size, output_size).to(device)"
   ]
  },
  {
   "cell_type": "code",
   "execution_count": 39,
   "id": "44ca841f-840f-4c74-99ba-5219ce7727e9",
   "metadata": {},
   "outputs": [],
   "source": [
    "# define loss and the optiizer\n",
    "criterion = nn.BCELoss()\n",
    "optimizer = optim.Adam(model.parameters(), lr=learning_rate)"
   ]
  },
  {
   "cell_type": "code",
   "execution_count": 40,
   "id": "50f6b40f-e6de-4ef2-b286-db62d622f386",
   "metadata": {},
   "outputs": [
    {
     "name": "stdout",
     "output_type": "stream",
     "text": [
      "Epoch [10/50], Loss : 0.5526, Accuracy: 90.99%\n",
      "Epoch [20/50], Loss : 0.4279, Accuracy: 93.85%\n",
      "Epoch [30/50], Loss : 0.3336, Accuracy: 94.73%\n",
      "Epoch [40/50], Loss : 0.2646, Accuracy: 95.38%\n",
      "Epoch [50/50], Loss : 0.2157, Accuracy: 95.82%\n"
     ]
    }
   ],
   "source": [
    "# train the neural network\n",
    "# training the model\n",
    "for epoch in range(num_epochs):\n",
    "  model.train()\n",
    "  optimizer.zero_grad()\n",
    "  outputs = model(X_train)\n",
    "  loss = criterion(outputs, y_train.view(-1,1))\n",
    "  loss.backward()\n",
    "  optimizer.step()\n",
    "\n",
    "  # claculate accuracy\n",
    "  with torch.no_grad():\n",
    "    predicted = outputs.round()\n",
    "    correct = (predicted == y_train.view(-1,1)).float().sum()\n",
    "    accuracy = correct/y_train.size(0)\n",
    "\n",
    "  if (epoch+1) % 10 == 0:\n",
    "    print(f\"Epoch [{epoch+1}/{num_epochs}], Loss : {loss.item():.4f}, Accuracy: {accuracy.item() * 100:.2f}%\")"
   ]
  },
  {
   "cell_type": "code",
   "execution_count": 41,
   "id": "c7022f17-c293-43b5-8801-fb7e4c0bf6ae",
   "metadata": {},
   "outputs": [
    {
     "name": "stdout",
     "output_type": "stream",
     "text": [
      "Accuracy on training data: 95.82%\n"
     ]
    }
   ],
   "source": [
    "# evaluation on training set\n",
    "model.eval()\n",
    "with torch.no_grad():\n",
    "  outputs = model(X_train)\n",
    "  predicted = outputs.round()\n",
    "  correct = (predicted == y_train.view(-1,1)).float().sum()\n",
    "  accuracy = correct/y_train.size(0)\n",
    "  print(f\"Accuracy on training data: {accuracy.item() * 100:.2f}%\")"
   ]
  },
  {
   "cell_type": "code",
   "execution_count": 42,
   "id": "39c3ccb4-6603-4e43-ad02-de6d31cc21ad",
   "metadata": {},
   "outputs": [
    {
     "name": "stdout",
     "output_type": "stream",
     "text": [
      "Accuracy on test data: 96.49%\n"
     ]
    }
   ],
   "source": [
    "# evaluation on test set\n",
    "model.eval()\n",
    "with torch.no_grad():\n",
    "  outputs = model(X_test)\n",
    "  predicted = outputs.round()\n",
    "  correct = (predicted == y_test.view(-1,1)).float().sum()\n",
    "  accuracy = correct/y_test.size(0)\n",
    "  print(f\"Accuracy on test data: {accuracy.item() * 100:.2f}%\")"
   ]
  }
 ],
 "metadata": {
  "kernelspec": {
   "display_name": "Python 3 (ipykernel)",
   "language": "python",
   "name": "python3"
  },
  "language_info": {
   "codemirror_mode": {
    "name": "ipython",
    "version": 3
   },
   "file_extension": ".py",
   "mimetype": "text/x-python",
   "name": "python",
   "nbconvert_exporter": "python",
   "pygments_lexer": "ipython3",
   "version": "3.12.2"
  }
 },
 "nbformat": 4,
 "nbformat_minor": 5
}
